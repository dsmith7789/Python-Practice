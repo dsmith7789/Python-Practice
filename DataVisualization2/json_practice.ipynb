{
 "cells": [
  {
   "cell_type": "code",
   "execution_count": 3,
   "metadata": {},
   "outputs": [
    {
     "name": "stdout",
     "output_type": "stream",
     "text": [
      "--2024-03-04 12:42:37--  https://raw.githubusercontent.com/ehmatthes/pcc_2e/master/chapter_16/mapping_global_data_sets/data/eq_data_1_day_m1.json\n",
      "Resolving raw.githubusercontent.com (raw.githubusercontent.com)... 185.199.111.133, 185.199.108.133, 185.199.109.133, ...\n",
      "Connecting to raw.githubusercontent.com (raw.githubusercontent.com)|185.199.111.133|:443... connected.\n",
      "HTTP request sent, awaiting response... 200 OK\n",
      "Length: 112875 (110K) [text/plain]\n",
      "Saving to: ‘./data/eq_data_1_day_m1.json’\n",
      "\n",
      "eq_data_1_day_m1.js 100%[===================>] 110.23K  --.-KB/s    in 0.03s   \n",
      "\n",
      "2024-03-04 12:42:37 (3.42 MB/s) - ‘./data/eq_data_1_day_m1.json’ saved [112875/112875]\n",
      "\n"
     ]
    }
   ],
   "source": [
    "# Downloading earthquake data\n",
    "! wget -nc https://raw.githubusercontent.com/ehmatthes/pcc_2e/master/chapter_16/mapping_global_data_sets/data/eq_data_1_day_m1.json -P ./data"
   ]
  },
  {
   "cell_type": "code",
   "execution_count": 4,
   "metadata": {},
   "outputs": [],
   "source": [
    "# load source data into a file that's more human readable.\n",
    "import json\n",
    "\n",
    "# explore the structure of the data.\n",
    "filename = \"data/eq_data_1_day_m1.json\"\n",
    "with open(filename) as f:\n",
    "    all_eq_data = json.load(f)\n",
    "\n",
    "readable_file = \"data/readable_eq_data.json\"\n",
    "with open(readable_file, 'w') as f:\n",
    "    json.dump(all_eq_data, f, indent=4)"
   ]
  },
  {
   "cell_type": "code",
   "execution_count": 7,
   "metadata": {},
   "outputs": [
    {
     "name": "stdout",
     "output_type": "stream",
     "text": [
      "[-116.7941667, -148.9865, -74.2343, -161.6801, -118.5316667]\n",
      "[33.4863333, 64.6673, -12.1025, 54.2232, 35.3098333]\n"
     ]
    }
   ],
   "source": [
    "# Make a list containing all information about every earthquake that occurred.\n",
    "import json\n",
    "\n",
    "filename = \"data/eq_data_1_day_m1.json\"\n",
    "with open(filename) as f:\n",
    "    all_eq_data = json.load(f)\n",
    "\n",
    "all_eq_dicts = all_eq_data['features']  # list of 158 different earthquakes\n",
    "#print(len(all_eq_dicts))\n",
    "\n",
    "# extract the magnitudes and locations of each earthquake\n",
    "mags, lons, lats = [], [], []\n",
    "for eq_dict in all_eq_dicts:\n",
    "    mag = eq_dict['properties']['mag']\n",
    "    lon = eq_dict['geometry']['coordinates'][0]\n",
    "    lat = eq_dict['geometry']['coordinates'][1]\n",
    "    mags.append(mag)\n",
    "    lons.append(lon)\n",
    "    lats.append(lat)\n",
    "#print(mags[ : 10])\n",
    "print(lons[ : 5])\n",
    "print(lats[ : 5])"
   ]
  },
  {
   "cell_type": "markdown",
   "metadata": {},
   "source": [
    "## Plotting earthquakes on a world map"
   ]
  },
  {
   "cell_type": "code",
   "execution_count": 9,
   "metadata": {},
   "outputs": [
    {
     "data": {
      "text/plain": [
       "'global_earthquakes.html'"
      ]
     },
     "execution_count": 9,
     "metadata": {},
     "output_type": "execute_result"
    }
   ],
   "source": [
    "from plotly.graph_objs import Scattergeo, Layout\n",
    "from plotly import offline\n",
    "import json\n",
    "\n",
    "filename = \"data/eq_data_1_day_m1.json\"\n",
    "with open(filename) as f:\n",
    "    all_eq_data = json.load(f)\n",
    "\n",
    "all_eq_dicts = all_eq_data['features']\n",
    "\n",
    "# extract the magnitudes and locations of each earthquake\n",
    "mags, lons, lats = [], [], []\n",
    "for eq_dict in all_eq_dicts:\n",
    "    mag = eq_dict['properties']['mag']\n",
    "    lon = eq_dict['geometry']['coordinates'][0]\n",
    "    lat = eq_dict['geometry']['coordinates'][1]\n",
    "    mags.append(mag)\n",
    "    lons.append(lon)\n",
    "    lats.append(lat)\n",
    "\n",
    "# map the earthquakes\n",
    "data = [{\n",
    "    'type': 'scattergeo',\n",
    "    'lon': lons,\n",
    "    'lat': lats,\n",
    "    'marker': {\n",
    "        'size': [5 * mag for mag in mags]   # bigger marker for a bigger earthquake\n",
    "    }\n",
    "}]\n",
    "my_layout = Layout(title='Global Earthquakes')\n",
    "\n",
    "fig = {'data': data, 'layout': my_layout}\n",
    "offline.plot(fig, filename='global_earthquakes.html')"
   ]
  },
  {
   "cell_type": "code",
   "execution_count": 10,
   "metadata": {},
   "outputs": [
    {
     "name": "stdout",
     "output_type": "stream",
     "text": [
      "--2024-03-04 14:43:45--  https://raw.githubusercontent.com/ehmatthes/pcc_2e/master/chapter_16/mapping_global_data_sets/data/eq_data_30_day_m1.json\n",
      "Resolving raw.githubusercontent.com (raw.githubusercontent.com)... 185.199.110.133, 185.199.109.133, 185.199.108.133, ...\n",
      "Connecting to raw.githubusercontent.com (raw.githubusercontent.com)|185.199.110.133|:443... connected.\n",
      "HTTP request sent, awaiting response... 200 OK\n",
      "Length: 4472182 (4.3M) [text/plain]\n",
      "Saving to: ‘./data/eq_data_30_day_m1.json’\n",
      "\n",
      "eq_data_30_day_m1.j 100%[===================>]   4.26M  6.59MB/s    in 0.6s    \n",
      "\n",
      "2024-03-04 14:43:46 (6.59 MB/s) - ‘./data/eq_data_30_day_m1.json’ saved [4472182/4472182]\n",
      "\n"
     ]
    }
   ],
   "source": [
    "# Downloading 30-day earthquake data\n",
    "! wget -nc https://raw.githubusercontent.com/ehmatthes/pcc_2e/master/chapter_16/mapping_global_data_sets/data/eq_data_30_day_m1.json -P ./data"
   ]
  },
  {
   "cell_type": "code",
   "execution_count": 11,
   "metadata": {},
   "outputs": [
    {
     "data": {
      "text/plain": [
       "'global_earthquakes_30_day.html'"
      ]
     },
     "execution_count": 11,
     "metadata": {},
     "output_type": "execute_result"
    }
   ],
   "source": [
    "# Customizing marker colors using 30-day earthquake data\n",
    "from plotly.graph_objs import Scattergeo, Layout\n",
    "from plotly import offline\n",
    "import json\n",
    "\n",
    "filename = \"data/eq_data_30_day_m1.json\"\n",
    "with open(filename) as f:\n",
    "    all_eq_data = json.load(f)\n",
    "\n",
    "all_eq_dicts = all_eq_data['features']\n",
    "\n",
    "# extract the magnitudes and locations of each earthquake\n",
    "mags, lons, lats = [], [], []\n",
    "for eq_dict in all_eq_dicts:\n",
    "    mag = eq_dict['properties']['mag']\n",
    "    lon = eq_dict['geometry']['coordinates'][0]\n",
    "    lat = eq_dict['geometry']['coordinates'][1]\n",
    "    mags.append(mag)\n",
    "    lons.append(lon)\n",
    "    lats.append(lat)\n",
    "\n",
    "# map the earthquakes\n",
    "data = [{\n",
    "    'type': 'scattergeo',\n",
    "    'lon': lons,\n",
    "    'lat': lats,\n",
    "    'marker': {\n",
    "        'size': [5 * mag for mag in mags],\n",
    "        'color': mags,\n",
    "        'colorscale': 'Viridis',\n",
    "        'reversescale': True,\n",
    "        'colorbar': {\n",
    "            'title': 'Magnitude'\n",
    "        }\n",
    "    }\n",
    "}]\n",
    "my_layout = Layout(title='Global Earthquakes')\n",
    "\n",
    "fig = {'data': data, 'layout': my_layout}\n",
    "offline.plot(fig, filename='global_earthquakes_30_day.html')"
   ]
  },
  {
   "cell_type": "code",
   "execution_count": 12,
   "metadata": {},
   "outputs": [
    {
     "name": "stdout",
     "output_type": "stream",
     "text": [
      "Greys\n",
      "YlGnBu\n",
      "Greens\n",
      "YlOrRd\n",
      "Bluered\n",
      "RdBu\n",
      "Reds\n",
      "Blues\n",
      "Picnic\n",
      "Rainbow\n",
      "Portland\n",
      "Jet\n",
      "Hot\n",
      "Blackbody\n",
      "Earth\n",
      "Electric\n",
      "Viridis\n",
      "Cividis\n"
     ]
    }
   ],
   "source": [
    "# the other colorscales available\n",
    "from plotly import colors\n",
    "\n",
    "for key in colors.PLOTLY_SCALES.keys():\n",
    "    print(key)"
   ]
  },
  {
   "cell_type": "code",
   "execution_count": 14,
   "metadata": {},
   "outputs": [
    {
     "data": {
      "text/plain": [
       "'global_earthquakes_30_day.html'"
      ]
     },
     "execution_count": 14,
     "metadata": {},
     "output_type": "execute_result"
    }
   ],
   "source": [
    "# Adding hover text to the 30 day earthquake plot\n",
    "# Customizing marker colors using 30-day earthquake data\n",
    "from plotly.graph_objs import Scattergeo, Layout\n",
    "from plotly import offline\n",
    "import json\n",
    "\n",
    "filename = \"data/eq_data_30_day_m1.json\"\n",
    "with open(filename) as f:\n",
    "    all_eq_data = json.load(f)\n",
    "\n",
    "all_eq_dicts = all_eq_data['features']\n",
    "\n",
    "# extract the magnitudes and locations of each earthquake\n",
    "mags, lons, lats, hover_texts = [], [], [], []\n",
    "for eq_dict in all_eq_dicts:\n",
    "    mag = eq_dict['properties']['mag']\n",
    "    lon = eq_dict['geometry']['coordinates'][0]\n",
    "    lat = eq_dict['geometry']['coordinates'][1]\n",
    "    title = eq_dict['properties']['title']\n",
    "    mags.append(mag)\n",
    "    lons.append(lon)\n",
    "    lats.append(lat)\n",
    "    hover_texts.append(title)\n",
    "\n",
    "# map the earthquakes\n",
    "data = [{\n",
    "    'type': 'scattergeo',\n",
    "    'lon': lons,\n",
    "    'lat': lats,\n",
    "    'marker': {\n",
    "        'size': [5 * mag for mag in mags],\n",
    "        'color': mags,\n",
    "        'colorscale': 'Viridis',\n",
    "        'reversescale': True,\n",
    "        'colorbar': {\n",
    "            'title': 'Magnitude'\n",
    "        }\n",
    "    },\n",
    "    'text': hover_texts\n",
    "}]\n",
    "\n",
    "title = all_eq_data['metadata']['title']\n",
    "my_layout = Layout(title=title)\n",
    "\n",
    "fig = {'data': data, 'layout': my_layout}\n",
    "offline.plot(fig, filename='global_earthquakes_30_day.html')"
   ]
  },
  {
   "cell_type": "code",
   "execution_count": null,
   "metadata": {},
   "outputs": [],
   "source": []
  }
 ],
 "metadata": {
  "kernelspec": {
   "display_name": "venv",
   "language": "python",
   "name": "python3"
  },
  "language_info": {
   "codemirror_mode": {
    "name": "ipython",
    "version": 3
   },
   "file_extension": ".py",
   "mimetype": "text/x-python",
   "name": "python",
   "nbconvert_exporter": "python",
   "pygments_lexer": "ipython3",
   "version": "3.10.6"
  }
 },
 "nbformat": 4,
 "nbformat_minor": 2
}
